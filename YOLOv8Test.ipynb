{
 "cells": [
  {
   "cell_type": "code",
   "execution_count": 1,
   "id": "261b06d0",
   "metadata": {},
   "outputs": [
    {
     "name": "stderr",
     "output_type": "stream",
     "text": [
      "Ultralytics YOLOv8.0.96  Python-3.11.3 torch-2.0.1+cu117 CUDA:0 (NVIDIA GeForce GTX 1050 Ti, 4096MiB)\n",
      "Setup complete  (12 CPUs, 15.9 GB RAM, 154.5/237.3 GB disk)\n"
     ]
    }
   ],
   "source": [
    "import ultralytics\n",
    "import cv2\n",
    "import pandas as pd\n",
    "import numpy as np\n",
    "ultralytics.checks()"
   ]
  },
  {
   "cell_type": "code",
   "execution_count": 2,
   "id": "8f5a03ec",
   "metadata": {},
   "outputs": [],
   "source": [
    "from ultralytics import YOLO\n",
    "model = YOLO('runs/detect/train/weights/best.pt')"
   ]
  },
  {
   "cell_type": "code",
   "execution_count": null,
   "id": "b7a7b297",
   "metadata": {},
   "outputs": [],
   "source": [
    "from ultralytics import YOLO\n",
    "model = YOLO('yolov8n.pt')"
   ]
  },
  {
   "cell_type": "code",
   "execution_count": null,
   "id": "4c61f0b1",
   "metadata": {},
   "outputs": [],
   "source": [
    "model.train(data='web-min-project-akhir.v3i.yolov8\\data.yaml',epochs=100,batch=5,imgsz=640,patience=5,optimizer='Adam',device=0,pretrained=True)"
   ]
  },
  {
   "cell_type": "code",
   "execution_count": null,
   "id": "436a2889",
   "metadata": {},
   "outputs": [],
   "source": [
    "model.val()"
   ]
  },
  {
   "cell_type": "code",
   "execution_count": 3,
   "id": "bb2aa414",
   "metadata": {},
   "outputs": [],
   "source": [
    "import math\n",
    "\n",
    "\n",
    "class Tracker:\n",
    "    def __init__(self):\n",
    "        # Store the center positions of the objects\n",
    "        self.center_points = {}\n",
    "        # Keep the count of the IDs\n",
    "        # each time a new object id detected, the count will increase by one\n",
    "        self.id_count = 0\n",
    "\n",
    "\n",
    "    def update(self, objects_rect):\n",
    "        # Objects boxes and ids\n",
    "        objects_bbs_ids = []\n",
    "\n",
    "        # Get center point of new object\n",
    "        for rect in objects_rect:\n",
    "            x, y, w, h = rect\n",
    "            cx = (x + 0.25*(w-x))\n",
    "            cy = (y + 0.75*(h-y))\n",
    "\n",
    "            # Find out if that object was detected already\n",
    "            same_object_detected = False\n",
    "            for id, pt in self.center_points.items():\n",
    "                dist = math.hypot(cx - pt[0], cy - pt[1])\n",
    "\n",
    "                if dist < 35:\n",
    "                    self.center_points[id] = (cx, cy)\n",
    "#                    print(self.center_points)\n",
    "                    objects_bbs_ids.append([x, y, w, h, id])\n",
    "                    same_object_detected = True\n",
    "                    break\n",
    "\n",
    "            # New object is detected we assign the ID to that object\n",
    "            if same_object_detected is False:\n",
    "                self.center_points[self.id_count] = (cx, cy)\n",
    "                objects_bbs_ids.append([x, y, w, h, self.id_count])\n",
    "                self.id_count += 1\n",
    "\n",
    "        # Clean the dictionary by center points to remove IDS not used anymore\n",
    "        new_center_points = {}\n",
    "        for obj_bb_id in objects_bbs_ids:\n",
    "            _, _, _, _, object_id = obj_bb_id\n",
    "            center = self.center_points[object_id]\n",
    "            new_center_points[object_id] = center\n",
    "\n",
    "        # Update dictionary with IDs not used removed\n",
    "        self.center_points = new_center_points.copy()\n",
    "        return objects_bbs_ids"
   ]
  },
  {
   "cell_type": "code",
   "execution_count": null,
   "id": "a9b178dc",
   "metadata": {},
   "outputs": [],
   "source": [
    "import cv2\n",
    "import numpy as np\n",
    "from IPython.display import Image\n",
    "path = 'Screenshot (373).png'\n",
    "img = cv2.imread(path)\n",
    "prevX, prevY, reX, reY = -1, -1, -1, -1\n",
    "def RGB(event, x, y, flags, param):\n",
    "    global prevX, prevY, reX, reY\n",
    "    if event == cv2.EVENT_LBUTTONDOWN:\n",
    "        cv2.circle(img, (x,y),15,(255,255,255),-1)\n",
    "        strXY = '(' + str(x) +','+str(y) + ')'\n",
    "        font = cv2.FONT_HERSHEY_PLAIN\n",
    "        colorsBGR = [x,y]\n",
    "        cv2.putText(img, strXY, (x+10, y-10), font,1,(255,255,255))\n",
    "        if prevX == -1 and prevY == -1:\n",
    "            prevX, prevY = x, y\n",
    "        else:\n",
    "            cv2.line(img,(prevX, prevY), (x,y), (0,0,255), 5)\n",
    "            prevX, prevY = x, y\n",
    "            reX, reY = -1, -1\n",
    "        cv2.imshow(\"image\", img)\n",
    "        print(colorsBGR)\n",
    "\n",
    "cv2.imshow(\"image\", img)\n",
    "cv2.setMouseCallback(\"image\", RGB)\n",
    "cv2.waitKey(0)\n",
    "cv2.destroyAllWindows()"
   ]
  },
  {
   "cell_type": "code",
   "execution_count": null,
   "id": "3b829dde",
   "metadata": {},
   "outputs": [],
   "source": [
    "#area=[(1058, 640),(1329, 739),(1320, 758),(1042, 660)]"
   ]
  },
  {
   "cell_type": "code",
   "execution_count": 4,
   "id": "49532d83",
   "metadata": {},
   "outputs": [],
   "source": [
    "area=[(1054, 650),(1331, 753),(1278, 916),(988, 775)]"
   ]
  },
  {
   "cell_type": "code",
   "execution_count": 5,
   "id": "db3f1b89",
   "metadata": {},
   "outputs": [],
   "source": [
    "class_list=['car','crosswalk','motorcycle']"
   ]
  },
  {
   "cell_type": "code",
   "execution_count": 6,
   "id": "57895998",
   "metadata": {},
   "outputs": [],
   "source": [
    "tracker=Tracker()"
   ]
  },
  {
   "cell_type": "code",
   "execution_count": 7,
   "id": "fec65030",
   "metadata": {},
   "outputs": [],
   "source": [
    "area_c=set()"
   ]
  },
  {
   "cell_type": "code",
   "execution_count": 8,
   "id": "adf49724",
   "metadata": {},
   "outputs": [],
   "source": [
    "from IPython.display import Image"
   ]
  },
  {
   "cell_type": "code",
   "execution_count": 9,
   "id": "3d9eec76",
   "metadata": {},
   "outputs": [],
   "source": [
    "frame2=cv2.imread('Screenshot (375).png')\n",
    "frame2=cv2.resize(frame2,(1920,1080))"
   ]
  },
  {
   "cell_type": "code",
   "execution_count": 10,
   "id": "c23865ae",
   "metadata": {},
   "outputs": [
    {
     "name": "stderr",
     "output_type": "stream",
     "text": [
      "\n",
      "0: 384x640 3 cars, 1 crosswalk, 7 motorcycles, 38.7ms\n",
      "Speed: 3.0ms preprocess, 38.7ms inference, 5.0ms postprocess per image at shape (1, 3, 640, 640)\n",
      "WARNING  'Boxes.boxes' is deprecated. Use 'Boxes.data' instead.\n"
     ]
    }
   ],
   "source": [
    "result=model.predict(frame2)\n",
    "a=result[0].boxes.boxes.cpu().numpy()\n",
    "px = pd.DataFrame(a).astype('float')\n",
    "list_=[]\n",
    "for index,row in px.iterrows():\n",
    "    x1=int(row[0])\n",
    "    y1=int(row[1])\n",
    "    x2=int(row[2])\n",
    "    y2=int(row[3])\n",
    "    d=int(row[5])\n",
    "    c=class_list[d]\n",
    "    if d==0 or d==2:\n",
    "        list_.append([x1,y1,x2,y2])\n",
    "bbox_id=tracker.update(list_)\n",
    "for bbox in bbox_id:\n",
    "    x3,y3,x4,y4,id=bbox\n",
    "    cx=int(x3+0.25*(x4-x3))\n",
    "    cy=int(y3+0.75*(y4-y3))\n",
    "    results=cv2.pointPolygonTest(np.array(area,np.int32),((cx,cy)),False)\n",
    "    if results >=0:\n",
    "        cv2.circle(frame2,(cx,cy),4,(0,0,255),-1)\n",
    "        cv2.rectangle(frame2,(x3,y3),(x4,y4),(255,0,0),2)\n",
    "        cv2.putText(frame2,str(id),(cx,cy),cv2.FONT_HERSHEY_COMPLEX,0.8,(0,255,255),2)\n",
    "        area_c.add(id)\n",
    "cv2.polylines(frame2,[np.array(area,np.int32)],True,(0,0,255),3)\n",
    "d=(len(area_c))\n",
    "cv2.putText(frame2,('Pelanggaran:-')+str(d),(60,90),cv2.FONT_HERSHEY_COMPLEX,0.8,(0,255,255),2)\n",
    "cv2.imshow(\"RGB\",frame2)\n",
    "cv2.waitKey(0)\n",
    "cv2.destroyAllWindows()"
   ]
  },
  {
   "cell_type": "code",
   "execution_count": null,
   "id": "0b0007e1",
   "metadata": {},
   "outputs": [],
   "source": []
  }
 ],
 "metadata": {
  "kernelspec": {
   "display_name": "Python 3 (ipykernel)",
   "language": "python",
   "name": "python3"
  },
  "language_info": {
   "codemirror_mode": {
    "name": "ipython",
    "version": 3
   },
   "file_extension": ".py",
   "mimetype": "text/x-python",
   "name": "python",
   "nbconvert_exporter": "python",
   "pygments_lexer": "ipython3",
   "version": "3.11.3"
  }
 },
 "nbformat": 4,
 "nbformat_minor": 5
}
